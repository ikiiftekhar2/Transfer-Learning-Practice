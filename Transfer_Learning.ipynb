{
  "nbformat": 4,
  "nbformat_minor": 0,
  "metadata": {
    "colab": {
      "name": "Transfer Learning.ipynb",
      "provenance": [],
      "collapsed_sections": []
    },
    "kernelspec": {
      "display_name": "Python 3",
      "name": "python3"
    },
    "language_info": {
      "name": "python"
    },
    "accelerator": "GPU"
  },
  "cells": [
    {
      "cell_type": "code",
      "metadata": {
        "colab": {
          "base_uri": "https://localhost:8080/",
          "height": 35
        },
        "id": "F4rrjPk-tIj5",
        "outputId": "18fab684-c104-43fe-e50a-7a5e56e66a90"
      },
      "source": [
        "import tensorflow as tf\n",
        "tf.__version__"
      ],
      "execution_count": 1,
      "outputs": [
        {
          "output_type": "execute_result",
          "data": {
            "application/vnd.google.colaboratory.intrinsic+json": {
              "type": "string"
            },
            "text/plain": [
              "'2.6.0'"
            ]
          },
          "metadata": {},
          "execution_count": 1
        }
      ]
    },
    {
      "cell_type": "markdown",
      "metadata": {
        "id": "W_lOTh3YMevn"
      },
      "source": [
        "# **Experimenting and comparing ResNet and Efficient net models on 10% of food vision data class**"
      ]
    },
    {
      "cell_type": "code",
      "metadata": {
        "colab": {
          "base_uri": "https://localhost:8080/"
        },
        "id": "yaS3Gi1ytPXF",
        "outputId": "caf1dea0-be57-4048-ed75-b1779c01b8b3"
      },
      "source": [
        "import zipfile \n",
        "\n",
        "!wget https://storage.googleapis.com/ztm_tf_course/food_vision/10_food_classes_10_percent.zip\n",
        "\n",
        "zip_file = zipfile.ZipFile(\"10_food_classes_10_percent.zip\")\n",
        "zip_file.extractall()\n",
        "zip_file.close()"
      ],
      "execution_count": 2,
      "outputs": [
        {
          "output_type": "stream",
          "name": "stdout",
          "text": [
            "--2021-11-08 20:16:13--  https://storage.googleapis.com/ztm_tf_course/food_vision/10_food_classes_10_percent.zip\n",
            "Resolving storage.googleapis.com (storage.googleapis.com)... 209.85.147.128, 142.250.125.128, 142.250.136.128, ...\n",
            "Connecting to storage.googleapis.com (storage.googleapis.com)|209.85.147.128|:443... connected.\n",
            "HTTP request sent, awaiting response... 200 OK\n",
            "Length: 168546183 (161M) [application/zip]\n",
            "Saving to: ‘10_food_classes_10_percent.zip’\n",
            "\n",
            "10_food_classes_10_ 100%[===================>] 160.74M   143MB/s    in 1.1s    \n",
            "\n",
            "2021-11-08 20:16:14 (143 MB/s) - ‘10_food_classes_10_percent.zip’ saved [168546183/168546183]\n",
            "\n"
          ]
        }
      ]
    },
    {
      "cell_type": "code",
      "metadata": {
        "colab": {
          "base_uri": "https://localhost:8080/"
        },
        "id": "IX83MkbSvYJV",
        "outputId": "ae3c900c-b5df-452a-b333-a875acbc808d"
      },
      "source": [
        "import os\n",
        "\n",
        "# Walk through 10 percent data directory and list number of files\n",
        "for dirpath, dirnames, filenames in os.walk(\"10_food_classes_10_percent\"):\n",
        "  print(f\"There are {len(dirnames)} directories and {len(filenames)} images in '{dirpath}'.\")"
      ],
      "execution_count": 3,
      "outputs": [
        {
          "output_type": "stream",
          "name": "stdout",
          "text": [
            "There are 2 directories and 0 images in '10_food_classes_10_percent'.\n",
            "There are 10 directories and 0 images in '10_food_classes_10_percent/test'.\n",
            "There are 0 directories and 250 images in '10_food_classes_10_percent/test/hamburger'.\n",
            "There are 0 directories and 250 images in '10_food_classes_10_percent/test/ramen'.\n",
            "There are 0 directories and 250 images in '10_food_classes_10_percent/test/chicken_curry'.\n",
            "There are 0 directories and 250 images in '10_food_classes_10_percent/test/steak'.\n",
            "There are 0 directories and 250 images in '10_food_classes_10_percent/test/pizza'.\n",
            "There are 0 directories and 250 images in '10_food_classes_10_percent/test/fried_rice'.\n",
            "There are 0 directories and 250 images in '10_food_classes_10_percent/test/ice_cream'.\n",
            "There are 0 directories and 250 images in '10_food_classes_10_percent/test/grilled_salmon'.\n",
            "There are 0 directories and 250 images in '10_food_classes_10_percent/test/chicken_wings'.\n",
            "There are 0 directories and 250 images in '10_food_classes_10_percent/test/sushi'.\n",
            "There are 10 directories and 0 images in '10_food_classes_10_percent/train'.\n",
            "There are 0 directories and 75 images in '10_food_classes_10_percent/train/hamburger'.\n",
            "There are 0 directories and 75 images in '10_food_classes_10_percent/train/ramen'.\n",
            "There are 0 directories and 75 images in '10_food_classes_10_percent/train/chicken_curry'.\n",
            "There are 0 directories and 75 images in '10_food_classes_10_percent/train/steak'.\n",
            "There are 0 directories and 75 images in '10_food_classes_10_percent/train/pizza'.\n",
            "There are 0 directories and 75 images in '10_food_classes_10_percent/train/fried_rice'.\n",
            "There are 0 directories and 75 images in '10_food_classes_10_percent/train/ice_cream'.\n",
            "There are 0 directories and 75 images in '10_food_classes_10_percent/train/grilled_salmon'.\n",
            "There are 0 directories and 75 images in '10_food_classes_10_percent/train/chicken_wings'.\n",
            "There are 0 directories and 75 images in '10_food_classes_10_percent/train/sushi'.\n"
          ]
        }
      ]
    },
    {
      "cell_type": "markdown",
      "metadata": {
        "id": "mHn20n0dMvv3"
      },
      "source": [
        "Preprocessing Data"
      ]
    },
    {
      "cell_type": "code",
      "metadata": {
        "colab": {
          "base_uri": "https://localhost:8080/"
        },
        "id": "_xZccJFPvmBU",
        "outputId": "4ba3141b-69d2-470a-a88b-a5d0041c60b3"
      },
      "source": [
        "from tensorflow.keras.preprocessing.image import ImageDataGenerator\n",
        "\n",
        "IMAGE_SHAPE = (224,224)\n",
        "BATCH_SIZE = 32\n",
        "\n",
        "tr_dir = \"/content/10_food_classes_10_percent/train\"\n",
        "ts_dir = \"/content/10_food_classes_10_percent/test\"\n",
        "\n",
        "train_datagen = ImageDataGenerator(rescale = 1/255.)\n",
        "test_datagen = ImageDataGenerator(rescale = 1/255.)\n",
        "\n",
        "train_data_10_percent = train_datagen.flow_from_directory(tr_dir,\n",
        "                                               target_size=IMAGE_SHAPE,\n",
        "                                               batch_size=BATCH_SIZE,\n",
        "                                               class_mode=\"categorical\")\n",
        "\n",
        "test_data_10_percent = train_datagen.flow_from_directory(ts_dir,\n",
        "                                               target_size=IMAGE_SHAPE,\n",
        "                                               batch_size=BATCH_SIZE,\n",
        "                                               class_mode=\"categorical\")"
      ],
      "execution_count": 4,
      "outputs": [
        {
          "output_type": "stream",
          "name": "stdout",
          "text": [
            "Found 750 images belonging to 10 classes.\n",
            "Found 2500 images belonging to 10 classes.\n"
          ]
        }
      ]
    },
    {
      "cell_type": "code",
      "metadata": {
        "id": "I8egNC1BwgSm"
      },
      "source": [
        "import datetime\n",
        "def create_tensorboard_callback(dir_name, experiment_name):\n",
        "  log_dir = dir_name + \"/\" + experiment_name + \"/\" + datetime.datetime.now().strftime(\"%Y%m%d-%H%M%S\")\n",
        "  tensorboard_callback = tf.keras.callbacks.TensorBoard(\n",
        "      log_dir=log_dir\n",
        "  )\n",
        "  print(f\"Saving TensorBoard log files to: {log_dir}\")\n",
        "  return tensorboard_callback"
      ],
      "execution_count": 5,
      "outputs": []
    },
    {
      "cell_type": "code",
      "metadata": {
        "id": "soyv8PmDybzU"
      },
      "source": [
        "import tensorflow_hub as hub\n",
        "resnet_url = \"https://tfhub.dev/google/imagenet/resnet_v2_50/feature_vector/4\"\n",
        "\n",
        "# EfficientNet0 feature vector\n",
        "efficientnet_url = \"https://tfhub.dev/tensorflow/efficientnet/b0/feature-vector/1\""
      ],
      "execution_count": 6,
      "outputs": []
    },
    {
      "cell_type": "markdown",
      "metadata": {
        "id": "3LghTQlZM1dO"
      },
      "source": [
        "ResNet model"
      ]
    },
    {
      "cell_type": "code",
      "metadata": {
        "id": "JAcbzeFl0-s_"
      },
      "source": [
        "def create_model(model_url,num_classes=10):\n",
        "  feature_layer = hub.KerasLayer(model_url, trainable=False,input_shape = IMAGE_SHAPE+(3,))\n",
        "\n",
        "  model = tf.keras.Sequential([\n",
        "                               feature_layer,\n",
        "                               tf.keras.layers.Dense(num_classes, activation=\"softmax\", name = \"out\") \n",
        "  ])\n",
        "  return model"
      ],
      "execution_count": 7,
      "outputs": []
    },
    {
      "cell_type": "code",
      "metadata": {
        "id": "o3kq_8DJ2G8F"
      },
      "source": [
        "resnet_model = create_model(resnet_url,train_data_10_percent.num_classes)"
      ],
      "execution_count": 8,
      "outputs": []
    },
    {
      "cell_type": "code",
      "metadata": {
        "id": "aZyMPuN72qL1"
      },
      "source": [
        "resnet_model.compile(loss=\"categorical_crossentropy\", optimizer=tf.keras.optimizers.Adam(),metrics = [\"accuracy\"])"
      ],
      "execution_count": 9,
      "outputs": []
    },
    {
      "cell_type": "code",
      "metadata": {
        "id": "paWm-pTj3IA1",
        "colab": {
          "base_uri": "https://localhost:8080/"
        },
        "outputId": "a9150819-9576-44eb-a373-f8f53ba014a0"
      },
      "source": [
        "resnet_history = resnet_model.fit(train_data_10_percent,epochs = 10 , steps_per_epoch= len(train_data_10_percent), validation_data=test_data_10_percent, callbacks=[create_tensorboard_callback(dir_name=\"tf_hub\",experiment_name=\"resnet\")])"
      ],
      "execution_count": 10,
      "outputs": [
        {
          "output_type": "stream",
          "name": "stdout",
          "text": [
            "Saving TensorBoard log files to: tf_hub/resnet/20211108-201628\n",
            "Epoch 1/10\n",
            "24/24 [==============================] - 58s 1s/step - loss: 2.0790 - accuracy: 0.3280 - val_loss: 1.2952 - val_accuracy: 0.5920\n",
            "Epoch 2/10\n",
            "24/24 [==============================] - 21s 915ms/step - loss: 0.9758 - accuracy: 0.7107 - val_loss: 0.8827 - val_accuracy: 0.7236\n",
            "Epoch 3/10\n",
            "24/24 [==============================] - 21s 914ms/step - loss: 0.6519 - accuracy: 0.8027 - val_loss: 0.7701 - val_accuracy: 0.7480\n",
            "Epoch 4/10\n",
            "24/24 [==============================] - 21s 916ms/step - loss: 0.4984 - accuracy: 0.8653 - val_loss: 0.7171 - val_accuracy: 0.7732\n",
            "Epoch 5/10\n",
            "24/24 [==============================] - 21s 910ms/step - loss: 0.3981 - accuracy: 0.9080 - val_loss: 0.6800 - val_accuracy: 0.7760\n",
            "Epoch 6/10\n",
            "24/24 [==============================] - 21s 905ms/step - loss: 0.3337 - accuracy: 0.9347 - val_loss: 0.6692 - val_accuracy: 0.7784\n",
            "Epoch 7/10\n",
            "24/24 [==============================] - 21s 909ms/step - loss: 0.2760 - accuracy: 0.9493 - val_loss: 0.6438 - val_accuracy: 0.7876\n",
            "Epoch 8/10\n",
            "24/24 [==============================] - 21s 907ms/step - loss: 0.2301 - accuracy: 0.9693 - val_loss: 0.6353 - val_accuracy: 0.7908\n",
            "Epoch 9/10\n",
            "24/24 [==============================] - 21s 904ms/step - loss: 0.2030 - accuracy: 0.9760 - val_loss: 0.6368 - val_accuracy: 0.7944\n",
            "Epoch 10/10\n",
            "24/24 [==============================] - 21s 912ms/step - loss: 0.1746 - accuracy: 0.9867 - val_loss: 0.6283 - val_accuracy: 0.7940\n"
          ]
        }
      ]
    },
    {
      "cell_type": "code",
      "metadata": {
        "id": "WtXORC453yL_"
      },
      "source": [
        "import matplotlib.pyplot as plt\n",
        "\n",
        "# Plot the validation and training data separately\n",
        "def plot_loss_curves(history):\n",
        "  \"\"\"\n",
        "  Returns separate loss curves for training and validation metrics.\n",
        "  \"\"\" \n",
        "  loss = history.history['loss']\n",
        "  val_loss = history.history['val_loss']\n",
        "\n",
        "  accuracy = history.history['accuracy']\n",
        "  val_accuracy = history.history['val_accuracy']\n",
        "\n",
        "  epochs = range(len(history.history['loss']))\n",
        "\n",
        "  # Plot loss\n",
        "  plt.plot(epochs, loss, label='training_loss')\n",
        "  plt.plot(epochs, val_loss, label='val_loss')\n",
        "  plt.title('Loss')\n",
        "  plt.xlabel('Epochs')\n",
        "  plt.legend()\n",
        "\n",
        "  # Plot accuracy\n",
        "  plt.figure()\n",
        "  plt.plot(epochs, accuracy, label='training_accuracy')\n",
        "  plt.plot(epochs, val_accuracy, label='val_accuracy')\n",
        "  plt.title('Accuracy')\n",
        "  plt.xlabel('Epochs')\n",
        "  plt.legend();"
      ],
      "execution_count": 11,
      "outputs": []
    },
    {
      "cell_type": "markdown",
      "metadata": {
        "id": "eZAwuW2wM44j"
      },
      "source": [
        "EfficientNet model"
      ]
    },
    {
      "cell_type": "code",
      "metadata": {
        "id": "tssTLW1x42Cs"
      },
      "source": [
        "eff_model = create_model(efficientnet_url,train_data_10_percent.num_classes)\n",
        "eff_model.compile(loss=\"categorical_crossentropy\", optimizer=tf.keras.optimizers.Adam(),metrics = [\"accuracy\"])"
      ],
      "execution_count": 12,
      "outputs": []
    },
    {
      "cell_type": "code",
      "metadata": {
        "colab": {
          "base_uri": "https://localhost:8080/"
        },
        "id": "-y1T4iJC5buN",
        "outputId": "1fe70422-e5ae-4b5b-d84b-8f03a203ad00"
      },
      "source": [
        "eff_history = eff_model.fit(train_data_10_percent,epochs = 10 , steps_per_epoch= len(train_data_10_percent), validation_data=test_data_10_percent, callbacks=[create_tensorboard_callback(dir_name=\"tf_hub\",experiment_name=\"effnet\")])"
      ],
      "execution_count": 13,
      "outputs": [
        {
          "output_type": "stream",
          "name": "stdout",
          "text": [
            "Saving TensorBoard log files to: tf_hub/effnet/20211108-202054\n",
            "Epoch 1/10\n",
            "24/24 [==============================] - 33s 971ms/step - loss: 1.8146 - accuracy: 0.4547 - val_loss: 1.2578 - val_accuracy: 0.7592\n",
            "Epoch 2/10\n",
            "24/24 [==============================] - 18s 788ms/step - loss: 1.0411 - accuracy: 0.7587 - val_loss: 0.8500 - val_accuracy: 0.8320\n",
            "Epoch 3/10\n",
            "24/24 [==============================] - 19s 801ms/step - loss: 0.7485 - accuracy: 0.8267 - val_loss: 0.6911 - val_accuracy: 0.8492\n",
            "Epoch 4/10\n",
            "24/24 [==============================] - 19s 800ms/step - loss: 0.6022 - accuracy: 0.8600 - val_loss: 0.6075 - val_accuracy: 0.8564\n",
            "Epoch 5/10\n",
            "24/24 [==============================] - 18s 792ms/step - loss: 0.5094 - accuracy: 0.8827 - val_loss: 0.5563 - val_accuracy: 0.8652\n",
            "Epoch 6/10\n",
            "24/24 [==============================] - 18s 788ms/step - loss: 0.4423 - accuracy: 0.9107 - val_loss: 0.5219 - val_accuracy: 0.8708\n",
            "Epoch 7/10\n",
            "24/24 [==============================] - 18s 786ms/step - loss: 0.3910 - accuracy: 0.9187 - val_loss: 0.4940 - val_accuracy: 0.8760\n",
            "Epoch 8/10\n",
            "24/24 [==============================] - 18s 792ms/step - loss: 0.3480 - accuracy: 0.9387 - val_loss: 0.4740 - val_accuracy: 0.8760\n",
            "Epoch 9/10\n",
            "24/24 [==============================] - 19s 794ms/step - loss: 0.3140 - accuracy: 0.9507 - val_loss: 0.4593 - val_accuracy: 0.8780\n",
            "Epoch 10/10\n",
            "24/24 [==============================] - 18s 792ms/step - loss: 0.2836 - accuracy: 0.9560 - val_loss: 0.4470 - val_accuracy: 0.8792\n"
          ]
        }
      ]
    },
    {
      "cell_type": "markdown",
      "metadata": {
        "id": "nOFg5DdKOdNM"
      },
      "source": [
        "Plotting loss curves"
      ]
    },
    {
      "cell_type": "code",
      "metadata": {
        "id": "DhHXnILj5lrN",
        "colab": {
          "base_uri": "https://localhost:8080/",
          "height": 573
        },
        "outputId": "353502b4-afdc-4efa-d839-bbdb98d41e8b"
      },
      "source": [
        "plot_loss_curves(eff_history)"
      ],
      "execution_count": 15,
      "outputs": [
        {
          "output_type": "display_data",
          "data": {
            "image/png": "[encoded data removed]",
            "text/plain": [
              "<Figure size 432x288 with 1 Axes>"
            ]
          },
          "metadata": {
            "needs_background": "light"
          }
        },
        {
          "output_type": "display_data",
          "data": {
            "image/png": "[encoded data removed]",
            "text/plain": [
              "<Figure size 432x288 with 1 Axes>"
            ]
          },
          "metadata": {
            "needs_background": "light"
          }
        }
      ]
    },
    {
      "cell_type": "code",
      "metadata": {
        "colab": {
          "base_uri": "https://localhost:8080/",
          "height": 573
        },
        "id": "daADuiBhOUwe",
        "outputId": "c6613000-a3f1-4cce-d0db-70dfaa3f634f"
      },
      "source": [
        "plot_loss_curves(resnet_history)"
      ],
      "execution_count": 16,
      "outputs": [
        {
          "output_type": "display_data",
          "data": {
            "image/png": "[encoded data removed]",
            "text/plain": [
              "<Figure size 432x288 with 1 Axes>"
            ]
          },
          "metadata": {
            "needs_background": "light"
          }
        },
        {
          "output_type": "display_data",
          "data": {
            "image/png": "[encoded data removed]",
            "text/plain": [
              "<Figure size 432x288 with 1 Axes>"
            ]
          },
          "metadata": {
            "needs_background": "light"
          }
        }
      ]
    },
    {
      "cell_type": "code",
      "metadata": {
        "id": "nSjuroUhOXBR"
      },
      "source": [
        ""
      ],
      "execution_count": null,
      "outputs": []
    }
  ]
}