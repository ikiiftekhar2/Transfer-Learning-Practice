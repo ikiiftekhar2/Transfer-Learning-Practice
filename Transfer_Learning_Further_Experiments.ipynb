{
  "nbformat": 4,
  "nbformat_minor": 0,
  "metadata": {
    "colab": {
      "name": "Transfer Learning Further Experiments.ipynb",
      "provenance": []
    },
    "kernelspec": {
      "name": "python3",
      "display_name": "Python 3"
    },
    "language_info": {
      "name": "python"
    },
    "accelerator": "GPU"
  },
  "cells": [
    {
      "cell_type": "markdown",
      "metadata": {
        "id": "xveJkbozPw--"
      },
      "source": [
        "# **Experimenting with various model structures with transfer learning on 10% and 1% of food vision database**"
      ]
    },
    {
      "cell_type": "code",
      "metadata": {
        "colab": {
          "base_uri": "https://localhost:8080/"
        },
        "id": "F9Zhq9235wq_",
        "outputId": "6277055f-ec18-4471-d982-2911e1ed519b"
      },
      "source": [
        "!nvidia-smi"
      ],
      "execution_count": 1,
      "outputs": [
        {
          "output_type": "stream",
          "name": "stdout",
          "text": [
            "Mon Nov  8 20:28:25 2021       \n",
            "+-----------------------------------------------------------------------------+\n",
            "| NVIDIA-SMI 495.44       Driver Version: 460.32.03    CUDA Version: 11.2     |\n",
            "|-------------------------------+----------------------+----------------------+\n",
            "| GPU  Name        Persistence-M| Bus-Id        Disp.A | Volatile Uncorr. ECC |\n",
            "| Fan  Temp  Perf  Pwr:Usage/Cap|         Memory-Usage | GPU-Util  Compute M. |\n",
            "|                               |                      |               MIG M. |\n",
            "|===============================+======================+======================|\n",
            "|   0  Tesla K80           Off  | 00000000:00:04.0 Off |                    0 |\n",
            "| N/A   32C    P8    29W / 149W |      0MiB / 11441MiB |      0%      Default |\n",
            "|                               |                      |                  N/A |\n",
            "+-------------------------------+----------------------+----------------------+\n",
            "                                                                               \n",
            "+-----------------------------------------------------------------------------+\n",
            "| Processes:                                                                  |\n",
            "|  GPU   GI   CI        PID   Type   Process name                  GPU Memory |\n",
            "|        ID   ID                                                   Usage      |\n",
            "|=============================================================================|\n",
            "|  No running processes found                                                 |\n",
            "+-----------------------------------------------------------------------------+\n"
          ]
        }
      ]
    },
    {
      "cell_type": "code",
      "metadata": {
        "colab": {
          "base_uri": "https://localhost:8080/"
        },
        "id": "LQy3lRzt55nB",
        "outputId": "33e74c69-62aa-4309-8f95-779ad4051f23"
      },
      "source": [
        "!wget https://raw.githubusercontent.com/mrdbourke/tensorflow-deep-learning/main/extras/helper_functions.py\n",
        "from helper_functions import *"
      ],
      "execution_count": 3,
      "outputs": [
        {
          "output_type": "stream",
          "name": "stdout",
          "text": [
            "--2021-11-08 20:28:41--  https://raw.githubusercontent.com/mrdbourke/tensorflow-deep-learning/main/extras/helper_functions.py\n",
            "Resolving raw.githubusercontent.com (raw.githubusercontent.com)... 185.199.108.133, 185.199.109.133, 185.199.110.133, ...\n",
            "Connecting to raw.githubusercontent.com (raw.githubusercontent.com)|185.199.108.133|:443... connected.\n",
            "HTTP request sent, awaiting response... 200 OK\n",
            "Length: 10246 (10K) [text/plain]\n",
            "Saving to: ‘helper_functions.py’\n",
            "\n",
            "\rhelper_functions.py   0%[                    ]       0  --.-KB/s               \rhelper_functions.py 100%[===================>]  10.01K  --.-KB/s    in 0s      \n",
            "\n",
            "2021-11-08 20:28:41 (68.9 MB/s) - ‘helper_functions.py’ saved [10246/10246]\n",
            "\n"
          ]
        }
      ]
    },
    {
      "cell_type": "code",
      "metadata": {
        "colab": {
          "base_uri": "https://localhost:8080/"
        },
        "id": "LKOiEWld6N0Q",
        "outputId": "4a4fcb3b-0a31-404d-bc42-c3d75e0f3d7c"
      },
      "source": [
        "!wget https://storage.googleapis.com/ztm_tf_course/food_vision/10_food_classes_10_percent.zip\n",
        "unzip_data(\"10_food_classes_10_percent.zip\")"
      ],
      "execution_count": 4,
      "outputs": [
        {
          "output_type": "stream",
          "name": "stdout",
          "text": [
            "--2021-11-08 20:28:44--  https://storage.googleapis.com/ztm_tf_course/food_vision/10_food_classes_10_percent.zip\n",
            "Resolving storage.googleapis.com (storage.googleapis.com)... 64.233.191.128, 173.194.74.128, 209.85.145.128, ...\n",
            "Connecting to storage.googleapis.com (storage.googleapis.com)|64.233.191.128|:443... connected.\n",
            "HTTP request sent, awaiting response... 200 OK\n",
            "Length: 168546183 (161M) [application/zip]\n",
            "Saving to: ‘10_food_classes_10_percent.zip’\n",
            "\n",
            "10_food_classes_10_ 100%[===================>] 160.74M   149MB/s    in 1.1s    \n",
            "\n",
            "2021-11-08 20:28:45 (149 MB/s) - ‘10_food_classes_10_percent.zip’ saved [168546183/168546183]\n",
            "\n"
          ]
        }
      ]
    },
    {
      "cell_type": "code",
      "metadata": {
        "colab": {
          "base_uri": "https://localhost:8080/"
        },
        "id": "E_KXEq-G6dcY",
        "outputId": "263ab2ca-b618-4967-d417-5ee0463fad83"
      },
      "source": [
        "walk_through_dir(\"10_food_classes_10_percent\")"
      ],
      "execution_count": 5,
      "outputs": [
        {
          "output_type": "stream",
          "name": "stdout",
          "text": [
            "There are 2 directories and 0 images in '10_food_classes_10_percent'.\n",
            "There are 10 directories and 0 images in '10_food_classes_10_percent/test'.\n",
            "There are 0 directories and 250 images in '10_food_classes_10_percent/test/hamburger'.\n",
            "There are 0 directories and 250 images in '10_food_classes_10_percent/test/ramen'.\n",
            "There are 0 directories and 250 images in '10_food_classes_10_percent/test/chicken_curry'.\n",
            "There are 0 directories and 250 images in '10_food_classes_10_percent/test/steak'.\n",
            "There are 0 directories and 250 images in '10_food_classes_10_percent/test/pizza'.\n",
            "There are 0 directories and 250 images in '10_food_classes_10_percent/test/fried_rice'.\n",
            "There are 0 directories and 250 images in '10_food_classes_10_percent/test/ice_cream'.\n",
            "There are 0 directories and 250 images in '10_food_classes_10_percent/test/grilled_salmon'.\n",
            "There are 0 directories and 250 images in '10_food_classes_10_percent/test/chicken_wings'.\n",
            "There are 0 directories and 250 images in '10_food_classes_10_percent/test/sushi'.\n",
            "There are 10 directories and 0 images in '10_food_classes_10_percent/train'.\n",
            "There are 0 directories and 75 images in '10_food_classes_10_percent/train/hamburger'.\n",
            "There are 0 directories and 75 images in '10_food_classes_10_percent/train/ramen'.\n",
            "There are 0 directories and 75 images in '10_food_classes_10_percent/train/chicken_curry'.\n",
            "There are 0 directories and 75 images in '10_food_classes_10_percent/train/steak'.\n",
            "There are 0 directories and 75 images in '10_food_classes_10_percent/train/pizza'.\n",
            "There are 0 directories and 75 images in '10_food_classes_10_percent/train/fried_rice'.\n",
            "There are 0 directories and 75 images in '10_food_classes_10_percent/train/ice_cream'.\n",
            "There are 0 directories and 75 images in '10_food_classes_10_percent/train/grilled_salmon'.\n",
            "There are 0 directories and 75 images in '10_food_classes_10_percent/train/chicken_wings'.\n",
            "There are 0 directories and 75 images in '10_food_classes_10_percent/train/sushi'.\n"
          ]
        }
      ]
    },
    {
      "cell_type": "markdown",
      "metadata": {
        "id": "Adl5quxRP98x"
      },
      "source": [
        "**Using the basic EfficientNet model on 10% of food vision data**"
      ]
    },
    {
      "cell_type": "code",
      "metadata": {
        "colab": {
          "base_uri": "https://localhost:8080/"
        },
        "id": "yNjiSizW7WrY",
        "outputId": "3a3e4829-15ae-4094-d900-beb14ced6254"
      },
      "source": [
        "import tensorflow as tf\n",
        "train_dir = '/content/10_food_classes_10_percent/train'\n",
        "test_dir = '/content/10_food_classes_10_percent/test'\n",
        "BS = 32 \n",
        "IMG_SIZE =(224,224)\n",
        "train_data  = tf.keras.preprocessing.image_dataset_from_directory(directory=train_dir,image_size=IMG_SIZE,label_mode=\"categorical\",batch_size=BS)"
      ],
      "execution_count": 7,
      "outputs": [
        {
          "output_type": "stream",
          "name": "stdout",
          "text": [
            "Found 750 files belonging to 10 classes.\n"
          ]
        }
      ]
    },
    {
      "cell_type": "code",
      "metadata": {
        "id": "MTk3MyVp8ZeU",
        "colab": {
          "base_uri": "https://localhost:8080/"
        },
        "outputId": "e5a4dddc-0690-42d0-e8f5-ad4ee3eb845f"
      },
      "source": [
        "test_data  = tf.keras.preprocessing.image_dataset_from_directory(directory=test_dir,image_size=IMG_SIZE,label_mode=\"categorical\",batch_size=BS)"
      ],
      "execution_count": 8,
      "outputs": [
        {
          "output_type": "stream",
          "name": "stdout",
          "text": [
            "Found 2500 files belonging to 10 classes.\n"
          ]
        }
      ]
    },
    {
      "cell_type": "code",
      "metadata": {
        "id": "eAuDJixB8ZZ9",
        "colab": {
          "base_uri": "https://localhost:8080/"
        },
        "outputId": "661eeb91-2d41-4927-ccbd-c6c1707117eb"
      },
      "source": [
        "base_model = tf.keras.applications.EfficientNetB0(include_top=False)\n",
        "base_model.trainable = False\n",
        "\n",
        "inputs = tf.keras.layers.Input( shape = ( 224,224,3 ))"
      ],
      "execution_count": 9,
      "outputs": [
        {
          "output_type": "stream",
          "name": "stdout",
          "text": [
            "Downloading data from https://storage.googleapis.com/keras-applications/efficientnetb0_notop.h5\n",
            "16711680/16705208 [==============================] - 0s 0us/step\n",
            "16719872/16705208 [==============================] - 0s 0us/step\n"
          ]
        }
      ]
    },
    {
      "cell_type": "code",
      "metadata": {
        "id": "dUwiuBqK8rVQ"
      },
      "source": [
        "model = base_model(inputs)\n",
        "model = tf.keras.layers.GlobalAveragePooling2D()(model)\n",
        "outputs = tf.keras.layers.Dense(10, activation=\"softmax\")(model)\n",
        "\n",
        "model_0 =tf.keras.Model(inputs,outputs)\n",
        "\n"
      ],
      "execution_count": 10,
      "outputs": []
    },
    {
      "cell_type": "code",
      "metadata": {
        "colab": {
          "base_uri": "https://localhost:8080/"
        },
        "id": "VWsXEhQDRLpQ",
        "outputId": "1eb68885-4675-4113-902a-d877b4db121f"
      },
      "source": [
        "model_0.summary()"
      ],
      "execution_count": 35,
      "outputs": [
        {
          "output_type": "stream",
          "name": "stdout",
          "text": [
            "Model: \"model\"\n",
            "_________________________________________________________________\n",
            "Layer (type)                 Output Shape              Param #   \n",
            "=================================================================\n",
            "input_2 (InputLayer)         [(None, 224, 224, 3)]     0         \n",
            "_________________________________________________________________\n",
            "efficientnetb0 (Functional)  (None, None, None, 1280)  4049571   \n",
            "_________________________________________________________________\n",
            "global_average_pooling2d (Gl (None, 1280)              0         \n",
            "_________________________________________________________________\n",
            "dense (Dense)                (None, 10)                12810     \n",
            "=================================================================\n",
            "Total params: 4,062,381\n",
            "Trainable params: 12,810\n",
            "Non-trainable params: 4,049,571\n",
            "_________________________________________________________________\n"
          ]
        }
      ]
    },
    {
      "cell_type": "code",
      "metadata": {
        "id": "wiF4Eoq6-3pn"
      },
      "source": [
        "model_0.compile(optimizer= tf.keras.optimizers.Adam(), loss=\"categorical_crossentropy\", metrics=[\"accuracy\"])"
      ],
      "execution_count": 11,
      "outputs": []
    },
    {
      "cell_type": "code",
      "metadata": {
        "colab": {
          "base_uri": "https://localhost:8080/"
        },
        "id": "RGhtYNQd_2Hv",
        "outputId": "6cf81c6e-7d61-4405-e95c-7544aa2d8472"
      },
      "source": [
        "track = model_0.fit(train_data,epochs = 5,validation_data=test_data,callbacks=[create_tensorboard_callback(\"transfer\",\"23\")])"
      ],
      "execution_count": 12,
      "outputs": [
        {
          "output_type": "stream",
          "name": "stdout",
          "text": [
            "Saving TensorBoard log files to: transfer/23/20211108-202953\n",
            "Epoch 1/5\n"
          ]
        },
        {
          "output_type": "stream",
          "name": "stderr",
          "text": [
            "/usr/local/lib/python3.7/dist-packages/keras/utils/generic_utils.py:497: CustomMaskWarning: Custom mask layers require a config and must override get_config. When loading, the custom mask layer must be passed to the custom_objects argument.\n",
            "  category=CustomMaskWarning)\n"
          ]
        },
        {
          "output_type": "stream",
          "name": "stdout",
          "text": [
            "24/24 [==============================] - 62s 1s/step - loss: 1.9246 - accuracy: 0.3973 - val_loss: 1.3677 - val_accuracy: 0.6976\n",
            "Epoch 2/5\n",
            "24/24 [==============================] - 14s 573ms/step - loss: 1.1575 - accuracy: 0.7293 - val_loss: 0.9270 - val_accuracy: 0.7956\n",
            "Epoch 3/5\n",
            "24/24 [==============================] - 14s 572ms/step - loss: 0.8455 - accuracy: 0.8080 - val_loss: 0.7532 - val_accuracy: 0.8188\n",
            "Epoch 4/5\n",
            "24/24 [==============================] - 14s 571ms/step - loss: 0.6911 - accuracy: 0.8440 - val_loss: 0.6647 - val_accuracy: 0.8284\n",
            "Epoch 5/5\n",
            "24/24 [==============================] - 14s 567ms/step - loss: 0.5854 - accuracy: 0.8720 - val_loss: 0.6099 - val_accuracy: 0.8348\n"
          ]
        }
      ]
    },
    {
      "cell_type": "code",
      "metadata": {
        "colab": {
          "base_uri": "https://localhost:8080/",
          "height": 573
        },
        "id": "y22hmNoXAhyJ",
        "outputId": "2d980f25-fdd6-49f2-b997-48f977e464ae"
      },
      "source": [
        "plot_loss_curves(track)"
      ],
      "execution_count": 13,
      "outputs": [
        {
          "output_type": "display_data",
          "data": {
            "image/png": "[encoded data removed]",
            "text/plain": [
              "<Figure size 432x288 with 1 Axes>"
            ]
          },
          "metadata": {
            "needs_background": "light"
          }
        },
        {
          "output_type": "display_data",
          "data": {
            "image/png": "[encoded data removed]",
            "text/plain": [
              "<Figure size 432x288 with 1 Axes>"
            ]
          },
          "metadata": {
            "needs_background": "light"
          }
        }
      ]
    },
    {
      "cell_type": "markdown",
      "metadata": {
        "id": "eHkJDWJZQW4-"
      },
      "source": [
        "**Testing on Food Vision data on 1% of data using an augmentation layer**"
      ]
    },
    {
      "cell_type": "code",
      "metadata": {
        "id": "FWET1JYCBuAg",
        "colab": {
          "base_uri": "https://localhost:8080/"
        },
        "outputId": "1cd150f3-d6ba-4783-e16c-c08efa22476a"
      },
      "source": [
        "!wget https://storage.googleapis.com/ztm_tf_course/food_vision/10_food_classes_1_percent.zip\n",
        "unzip_data(\"10_food_classes_1_percent.zip\")"
      ],
      "execution_count": 14,
      "outputs": [
        {
          "output_type": "stream",
          "name": "stdout",
          "text": [
            "--2021-11-08 20:32:05--  https://storage.googleapis.com/ztm_tf_course/food_vision/10_food_classes_1_percent.zip\n",
            "Resolving storage.googleapis.com (storage.googleapis.com)... 173.194.196.128, 173.194.197.128, 64.233.191.128, ...\n",
            "Connecting to storage.googleapis.com (storage.googleapis.com)|173.194.196.128|:443... connected.\n",
            "HTTP request sent, awaiting response... 200 OK\n",
            "Length: 133612354 (127M) [application/zip]\n",
            "Saving to: ‘10_food_classes_1_percent.zip’\n",
            "\n",
            "10_food_classes_1_p 100%[===================>] 127.42M   179MB/s    in 0.7s    \n",
            "\n",
            "2021-11-08 20:32:06 (179 MB/s) - ‘10_food_classes_1_percent.zip’ saved [133612354/133612354]\n",
            "\n"
          ]
        }
      ]
    },
    {
      "cell_type": "markdown",
      "metadata": {
        "id": "hORAKrLWSWhy"
      },
      "source": [
        "Pre processing data"
      ]
    },
    {
      "cell_type": "code",
      "metadata": {
        "colab": {
          "base_uri": "https://localhost:8080/"
        },
        "id": "I7gD_XS0Py_I",
        "outputId": "d2fb5bab-7e12-4d78-f4a1-ef7948561764"
      },
      "source": [
        "train_dir = \"/content/10_food_classes_1_percent/train\"\n",
        "test_dir = \"/content/10_food_classes_1_percent/test\"\n",
        "train_data_1 = tf.keras.preprocessing.image_dataset_from_directory(train_dir,\n",
        "                                                                   label_mode= \"categorical\",\n",
        "                                                                   batch_size=BS,image_size=IMG_SIZE)\n",
        "test_data_1 = tf.keras.preprocessing.image_dataset_from_directory(test_dir,\n",
        "                                                                   label_mode= \"categorical\",\n",
        "                                                                   batch_size=BS,image_size=IMG_SIZE)"
      ],
      "execution_count": 15,
      "outputs": [
        {
          "output_type": "stream",
          "name": "stdout",
          "text": [
            "Found 70 files belonging to 10 classes.\n",
            "Found 2500 files belonging to 10 classes.\n"
          ]
        }
      ]
    },
    {
      "cell_type": "code",
      "metadata": {
        "id": "NpMJCqwxXpF4"
      },
      "source": [
        "import tensorflow as tf\n",
        "import tensorflow.keras.optimizers as optimizers\n",
        "import tensorflow.keras.layers as layers\n",
        "import tensorflow.keras.layers.experimental.preprocessing as preprocessing\n"
      ],
      "execution_count": 16,
      "outputs": []
    },
    {
      "cell_type": "code",
      "metadata": {
        "id": "ljiQUv7rZkUB"
      },
      "source": [
        "aug_layer = tf.keras.Sequential([\n",
        "                                 preprocessing.RandomFlip(\"horizontal\"),\n",
        "                                 preprocessing.RandomRotation(0.2),\n",
        "                                 preprocessing.RandomZoom(0.2),\n",
        "                                 preprocessing.RandomHeight(0.2),\n",
        "                                 preprocessing.RandomWidth(0.2),\n",
        "])"
      ],
      "execution_count": 17,
      "outputs": []
    },
    {
      "cell_type": "code",
      "metadata": {
        "id": "FcfMt6AyZrkA"
      },
      "source": [
        "input_shape = (224,224,3)\n",
        "base_model = tf.keras.applications.EfficientNetB0(include_top=False)\n",
        "base_model.trainable = False\n",
        "\n",
        "inputs = layers.Input(shape = input_shape)\n",
        "\n",
        "z = aug_layer(inputs)\n",
        "\n",
        "z = base_model(z , training = False)\n",
        "\n",
        "z = layers.GlobalAveragePooling2D()(z)\n",
        "\n",
        "outs = layers.Dense(10,activation=\"softmax\")(z)\n",
        "\n",
        "model_1 = tf.keras.Model(inputs,outs)"
      ],
      "execution_count": 18,
      "outputs": []
    },
    {
      "cell_type": "code",
      "metadata": {
        "id": "E6VPm3F0bncI"
      },
      "source": [
        "model_1.compile(loss=\"categorical_crossentropy\",metrics=[\"accuracy\"],optimizer= optimizers.Adam())"
      ],
      "execution_count": 19,
      "outputs": []
    },
    {
      "cell_type": "code",
      "metadata": {
        "colab": {
          "base_uri": "https://localhost:8080/"
        },
        "id": "OocFmWI9c2pA",
        "outputId": "c9e22463-6e0d-44f8-971c-8cfb48d8203a"
      },
      "source": [
        "track1 = model_1.fit(train_data_1,epochs = 15,steps_per_epoch= len(train_data_1),validation_data=test_data_1,validation_steps=int(0.25 * len(test_data_1)),callbacks = [create_tensorboard_callback(\"training\",\"1 percent\")])"
      ],
      "execution_count": 20,
      "outputs": [
        {
          "output_type": "stream",
          "name": "stdout",
          "text": [
            "Saving TensorBoard log files to: training/1 percent/20211108-203212\n",
            "Epoch 1/15\n"
          ]
        },
        {
          "output_type": "stream",
          "name": "stderr",
          "text": [
            "/usr/local/lib/python3.7/dist-packages/keras/utils/generic_utils.py:497: CustomMaskWarning: Custom mask layers require a config and must override get_config. When loading, the custom mask layer must be passed to the custom_objects argument.\n",
            "  category=CustomMaskWarning)\n"
          ]
        },
        {
          "output_type": "stream",
          "name": "stdout",
          "text": [
            "3/3 [==============================] - 15s 3s/step - loss: 2.4691 - accuracy: 0.0571 - val_loss: 2.2947 - val_accuracy: 0.1151\n",
            "Epoch 2/15\n",
            "3/3 [==============================] - 7s 3s/step - loss: 2.1968 - accuracy: 0.1429 - val_loss: 2.1613 - val_accuracy: 0.2270\n",
            "Epoch 3/15\n",
            "3/3 [==============================] - 5s 2s/step - loss: 1.9990 - accuracy: 0.4429 - val_loss: 2.0611 - val_accuracy: 0.2928\n",
            "Epoch 4/15\n",
            "3/3 [==============================] - 7s 3s/step - loss: 1.8255 - accuracy: 0.5143 - val_loss: 1.9658 - val_accuracy: 0.3322\n",
            "Epoch 5/15\n",
            "3/3 [==============================] - 7s 3s/step - loss: 1.6882 - accuracy: 0.6857 - val_loss: 1.8637 - val_accuracy: 0.4079\n",
            "Epoch 6/15\n",
            "3/3 [==============================] - 4s 2s/step - loss: 1.5336 - accuracy: 0.7000 - val_loss: 1.7876 - val_accuracy: 0.4342\n",
            "Epoch 7/15\n",
            "3/3 [==============================] - 5s 2s/step - loss: 1.4294 - accuracy: 0.7286 - val_loss: 1.7151 - val_accuracy: 0.4770\n",
            "Epoch 8/15\n",
            "3/3 [==============================] - 6s 3s/step - loss: 1.2903 - accuracy: 0.8429 - val_loss: 1.6268 - val_accuracy: 0.5329\n",
            "Epoch 9/15\n",
            "3/3 [==============================] - 4s 2s/step - loss: 1.1791 - accuracy: 0.9143 - val_loss: 1.5724 - val_accuracy: 0.5477\n",
            "Epoch 10/15\n",
            "3/3 [==============================] - 7s 3s/step - loss: 1.1187 - accuracy: 0.9000 - val_loss: 1.5092 - val_accuracy: 0.5674\n",
            "Epoch 11/15\n",
            "3/3 [==============================] - 5s 2s/step - loss: 0.9852 - accuracy: 0.9286 - val_loss: 1.4503 - val_accuracy: 0.6069\n",
            "Epoch 12/15\n",
            "3/3 [==============================] - 5s 2s/step - loss: 0.9549 - accuracy: 0.9429 - val_loss: 1.4126 - val_accuracy: 0.6316\n",
            "Epoch 13/15\n",
            "3/3 [==============================] - 6s 3s/step - loss: 0.8115 - accuracy: 1.0000 - val_loss: 1.3374 - val_accuracy: 0.6497\n",
            "Epoch 14/15\n",
            "3/3 [==============================] - 6s 3s/step - loss: 0.7356 - accuracy: 1.0000 - val_loss: 1.2860 - val_accuracy: 0.6793\n",
            "Epoch 15/15\n",
            "3/3 [==============================] - 4s 2s/step - loss: 0.6967 - accuracy: 1.0000 - val_loss: 1.2481 - val_accuracy: 0.6776\n"
          ]
        }
      ]
    },
    {
      "cell_type": "markdown",
      "metadata": {
        "id": "5V_RzPozSbSn"
      },
      "source": [
        "Plotting Loss curves"
      ]
    },
    {
      "cell_type": "code",
      "metadata": {
        "colab": {
          "base_uri": "https://localhost:8080/",
          "height": 573
        },
        "id": "W6nEMZYhdU0i",
        "outputId": "5c41618d-61b5-4462-b21e-76991d92e851"
      },
      "source": [
        "plot_loss_curves(track1)"
      ],
      "execution_count": 21,
      "outputs": [
        {
          "output_type": "display_data",
          "data": {
            "image/png": "[encoded data removed]",
            "text/plain": [
              "<Figure size 432x288 with 1 Axes>"
            ]
          },
          "metadata": {
            "needs_background": "light"
          }
        },
        {
          "output_type": "display_data",
          "data": {
            "image/png": "[encoded data removed]",
            "text/plain": [
              "<Figure size 432x288 with 1 Axes>"
            ]
          },
          "metadata": {
            "needs_background": "light"
          }
        }
      ]
    },
    {
      "cell_type": "markdown",
      "metadata": {
        "id": "zKRyA4CQRUli"
      },
      "source": [
        "**Recreating Model_0 but with best saving the best weights only**"
      ]
    },
    {
      "cell_type": "markdown",
      "metadata": {
        "id": "tJGvykvrSeKa"
      },
      "source": [
        "Preprocessing data"
      ]
    },
    {
      "cell_type": "code",
      "metadata": {
        "colab": {
          "base_uri": "https://localhost:8080/"
        },
        "id": "3gt7aIzUerWw",
        "outputId": "e895d64f-4f61-4f27-b491-e13de1dda066"
      },
      "source": [
        "train_dir = \"/content/10_food_classes_10_percent/train\"\n",
        "test_dir = \"/content/10_food_classes_10_percent/test\"\n",
        "train_data_10 = tf.keras.preprocessing.image_dataset_from_directory(train_dir,\n",
        "                                                                   label_mode= \"categorical\",\n",
        "                                                                   batch_size=BS,image_size=IMG_SIZE)\n",
        "test_data_10 = tf.keras.preprocessing.image_dataset_from_directory(test_dir,\n",
        "                                                                   label_mode= \"categorical\",\n",
        "                                                                   batch_size=BS,image_size=IMG_SIZE)"
      ],
      "execution_count": 22,
      "outputs": [
        {
          "output_type": "stream",
          "name": "stdout",
          "text": [
            "Found 750 files belonging to 10 classes.\n",
            "Found 2500 files belonging to 10 classes.\n"
          ]
        }
      ]
    },
    {
      "cell_type": "code",
      "metadata": {
        "id": "4S2vRWP7e5xz"
      },
      "source": [
        "model_2 = tf.keras.Model(inputs,outs)\n",
        "model_2.compile(loss=\"categorical_crossentropy\",metrics=[\"accuracy\"],optimizer= optimizers.Adam())"
      ],
      "execution_count": 23,
      "outputs": []
    },
    {
      "cell_type": "code",
      "metadata": {
        "colab": {
          "base_uri": "https://localhost:8080/"
        },
        "id": "aBr5GRGzgJC7",
        "outputId": "ccf248a9-6356-49a3-aae4-35b849946675"
      },
      "source": [
        "model_2.summary()"
      ],
      "execution_count": 24,
      "outputs": [
        {
          "output_type": "stream",
          "name": "stdout",
          "text": [
            "Model: \"model_2\"\n",
            "_________________________________________________________________\n",
            "Layer (type)                 Output Shape              Param #   \n",
            "=================================================================\n",
            "input_4 (InputLayer)         [(None, 224, 224, 3)]     0         \n",
            "_________________________________________________________________\n",
            "sequential (Sequential)      (None, None, None, 3)     0         \n",
            "_________________________________________________________________\n",
            "efficientnetb0 (Functional)  (None, None, None, 1280)  4049571   \n",
            "_________________________________________________________________\n",
            "global_average_pooling2d_1 ( (None, 1280)              0         \n",
            "_________________________________________________________________\n",
            "dense_1 (Dense)              (None, 10)                12810     \n",
            "=================================================================\n",
            "Total params: 4,062,381\n",
            "Trainable params: 12,810\n",
            "Non-trainable params: 4,049,571\n",
            "_________________________________________________________________\n"
          ]
        }
      ]
    },
    {
      "cell_type": "code",
      "metadata": {
        "id": "_rd53wJCgMC4"
      },
      "source": [
        "cp_paths= \"weights/checkpoint.ckpt\"\n",
        "cp_callback = tf.keras.callbacks.ModelCheckpoint(filepath=cp_paths, save_best_only= True, save_weights_only=True,save_freq='epoch',verbose = 1)"
      ],
      "execution_count": 25,
      "outputs": []
    },
    {
      "cell_type": "code",
      "metadata": {
        "colab": {
          "base_uri": "https://localhost:8080/"
        },
        "id": "GjFZ-ZWzg-O5",
        "outputId": "17528af1-96a5-446a-f7cd-5e59a8779ac1"
      },
      "source": [
        "track1 = model_1.fit(train_data_10,epochs = 15,steps_per_epoch= len(train_data_10),validation_data=test_data_10,validation_steps=int(0.25 * len(test_data_10)),callbacks = [create_tensorboard_callback(\"training\",\"1 percent\"),cp_callback])"
      ],
      "execution_count": 26,
      "outputs": [
        {
          "output_type": "stream",
          "name": "stdout",
          "text": [
            "Saving TensorBoard log files to: training/1 percent/20211108-203357\n",
            "Epoch 1/15\n"
          ]
        },
        {
          "output_type": "stream",
          "name": "stderr",
          "text": [
            "/usr/local/lib/python3.7/dist-packages/keras/utils/generic_utils.py:497: CustomMaskWarning: Custom mask layers require a config and must override get_config. When loading, the custom mask layer must be passed to the custom_objects argument.\n",
            "  category=CustomMaskWarning)\n"
          ]
        },
        {
          "output_type": "stream",
          "name": "stdout",
          "text": [
            "24/24 [==============================] - 18s 737ms/step - loss: 1.3510 - accuracy: 0.6080 - val_loss: 1.0198 - val_accuracy: 0.7155\n",
            "\n",
            "Epoch 00001: val_loss improved from inf to 1.01982, saving model to weights/checkpoint.ckpt\n",
            "Epoch 2/15\n",
            "24/24 [==============================] - 14s 560ms/step - loss: 1.0891 - accuracy: 0.7027 - val_loss: 0.8520 - val_accuracy: 0.7763\n",
            "\n",
            "Epoch 00002: val_loss improved from 1.01982 to 0.85200, saving model to weights/checkpoint.ckpt\n",
            "Epoch 3/15\n",
            "24/24 [==============================] - 14s 549ms/step - loss: 0.9396 - accuracy: 0.7347 - val_loss: 0.7547 - val_accuracy: 0.7862\n",
            "\n",
            "Epoch 00003: val_loss improved from 0.85200 to 0.75471, saving model to weights/checkpoint.ckpt\n",
            "Epoch 4/15\n",
            "24/24 [==============================] - 16s 664ms/step - loss: 0.8621 - accuracy: 0.7707 - val_loss: 0.7039 - val_accuracy: 0.8043\n",
            "\n",
            "Epoch 00004: val_loss improved from 0.75471 to 0.70386, saving model to weights/checkpoint.ckpt\n",
            "Epoch 5/15\n",
            "24/24 [==============================] - 13s 509ms/step - loss: 0.7578 - accuracy: 0.8040 - val_loss: 0.6669 - val_accuracy: 0.8076\n",
            "\n",
            "Epoch 00005: val_loss improved from 0.70386 to 0.66695, saving model to weights/checkpoint.ckpt\n",
            "Epoch 6/15\n",
            "24/24 [==============================] - 13s 527ms/step - loss: 0.7014 - accuracy: 0.8213 - val_loss: 0.6355 - val_accuracy: 0.8141\n",
            "\n",
            "Epoch 00006: val_loss improved from 0.66695 to 0.63550, saving model to weights/checkpoint.ckpt\n",
            "Epoch 7/15\n",
            "24/24 [==============================] - 13s 551ms/step - loss: 0.6636 - accuracy: 0.8227 - val_loss: 0.6179 - val_accuracy: 0.8322\n",
            "\n",
            "Epoch 00007: val_loss improved from 0.63550 to 0.61786, saving model to weights/checkpoint.ckpt\n",
            "Epoch 8/15\n",
            "24/24 [==============================] - 11s 448ms/step - loss: 0.6096 - accuracy: 0.8253 - val_loss: 0.5659 - val_accuracy: 0.8405\n",
            "\n",
            "Epoch 00008: val_loss improved from 0.61786 to 0.56594, saving model to weights/checkpoint.ckpt\n",
            "Epoch 9/15\n",
            "24/24 [==============================] - 12s 486ms/step - loss: 0.6097 - accuracy: 0.8427 - val_loss: 0.5753 - val_accuracy: 0.8240\n",
            "\n",
            "Epoch 00009: val_loss did not improve from 0.56594\n",
            "Epoch 10/15\n",
            "24/24 [==============================] - 13s 526ms/step - loss: 0.5605 - accuracy: 0.8560 - val_loss: 0.5690 - val_accuracy: 0.8174\n",
            "\n",
            "Epoch 00010: val_loss did not improve from 0.56594\n",
            "Epoch 11/15\n",
            "24/24 [==============================] - 14s 576ms/step - loss: 0.5161 - accuracy: 0.8640 - val_loss: 0.5682 - val_accuracy: 0.8273\n",
            "\n",
            "Epoch 00011: val_loss did not improve from 0.56594\n",
            "Epoch 12/15\n",
            "24/24 [==============================] - 14s 552ms/step - loss: 0.4926 - accuracy: 0.8760 - val_loss: 0.5484 - val_accuracy: 0.8306\n",
            "\n",
            "Epoch 00012: val_loss improved from 0.56594 to 0.54844, saving model to weights/checkpoint.ckpt\n",
            "Epoch 13/15\n",
            "24/24 [==============================] - 13s 546ms/step - loss: 0.4905 - accuracy: 0.8813 - val_loss: 0.5319 - val_accuracy: 0.8355\n",
            "\n",
            "Epoch 00013: val_loss improved from 0.54844 to 0.53187, saving model to weights/checkpoint.ckpt\n",
            "Epoch 14/15\n",
            "24/24 [==============================] - 14s 558ms/step - loss: 0.4603 - accuracy: 0.8813 - val_loss: 0.5316 - val_accuracy: 0.8355\n",
            "\n",
            "Epoch 00014: val_loss improved from 0.53187 to 0.53159, saving model to weights/checkpoint.ckpt\n",
            "Epoch 15/15\n",
            "24/24 [==============================] - 11s 445ms/step - loss: 0.4169 - accuracy: 0.9093 - val_loss: 0.5047 - val_accuracy: 0.8454\n",
            "\n",
            "Epoch 00015: val_loss improved from 0.53159 to 0.50466, saving model to weights/checkpoint.ckpt\n"
          ]
        }
      ]
    },
    {
      "cell_type": "markdown",
      "metadata": {
        "id": "0flA4USESg67"
      },
      "source": [
        "Plotting loss curves"
      ]
    },
    {
      "cell_type": "code",
      "metadata": {
        "colab": {
          "base_uri": "https://localhost:8080/",
          "height": 573
        },
        "id": "sbCMxPV4hOkg",
        "outputId": "75a3954c-6b04-4baf-8c12-68c269abe139"
      },
      "source": [
        "plot_loss_curves(track1)"
      ],
      "execution_count": 27,
      "outputs": [
        {
          "output_type": "display_data",
          "data": {
            "image/png": "[encoded data removed]",
            "text/plain": [
              "<Figure size 432x288 with 1 Axes>"
            ]
          },
          "metadata": {
            "needs_background": "light"
          }
        },
        {
          "output_type": "display_data",
          "data": {
            "image/png": "[encoded data removed]",
            "text/plain": [
              "<Figure size 432x288 with 1 Axes>"
            ]
          },
          "metadata": {
            "needs_background": "light"
          }
        }
      ]
    },
    {
      "cell_type": "code",
      "metadata": {
        "colab": {
          "base_uri": "https://localhost:8080/"
        },
        "id": "B6KO27bIh8Pa",
        "outputId": "d0a37742-d293-42c2-b4db-8af45183817f"
      },
      "source": [
        "model_2.evaluate(test_data_10)"
      ],
      "execution_count": 28,
      "outputs": [
        {
          "output_type": "stream",
          "name": "stdout",
          "text": [
            "79/79 [==============================] - 13s 129ms/step - loss: 0.5113 - accuracy: 0.8416\n"
          ]
        },
        {
          "output_type": "execute_result",
          "data": {
            "text/plain": [
              "[0.5113022923469543, 0.8416000008583069]"
            ]
          },
          "metadata": {},
          "execution_count": 28
        }
      ]
    },
    {
      "cell_type": "markdown",
      "metadata": {
        "id": "I8PEc_9ZR6eW"
      },
      "source": [
        "**Using 10% of Food vision data on EfficientNet model but unfreezing the last 10 output layers for fine tuning, using existing highly trained weights**"
      ]
    },
    {
      "cell_type": "code",
      "metadata": {
        "colab": {
          "base_uri": "https://localhost:8080/"
        },
        "id": "N1y6-7vHiH0D",
        "outputId": "33c3b319-43bc-4740-8de2-698feafd8155"
      },
      "source": [
        "model_2.load_weights(cp_paths)"
      ],
      "execution_count": 29,
      "outputs": [
        {
          "output_type": "execute_result",
          "data": {
            "text/plain": [
              "<tensorflow.python.training.tracking.util.CheckpointLoadStatus at 0x7f1ad79767d0>"
            ]
          },
          "metadata": {},
          "execution_count": 29
        }
      ]
    },
    {
      "cell_type": "code",
      "metadata": {
        "id": "zlqMDpHAiVCa"
      },
      "source": [
        "base_model.trainable = True\n",
        "\n",
        "# Freeze all layers except for the\n",
        "for layer in base_model.layers[:-10]:\n",
        "  layer.trainable = False"
      ],
      "execution_count": 30,
      "outputs": []
    },
    {
      "cell_type": "code",
      "metadata": {
        "id": "h_8ktkuej9A4"
      },
      "source": [
        "model_2.compile(loss=\"categorical_crossentropy\",metrics=[\"accuracy\"],optimizer= optimizers.Adam(learning_rate=0.0001))"
      ],
      "execution_count": 31,
      "outputs": []
    },
    {
      "cell_type": "code",
      "metadata": {
        "colab": {
          "base_uri": "https://localhost:8080/"
        },
        "id": "3xR19e-1lzay",
        "outputId": "1e077f3b-a31d-46c7-80da-f3de5469715d"
      },
      "source": [
        "model_2.summary()"
      ],
      "execution_count": 32,
      "outputs": [
        {
          "output_type": "stream",
          "name": "stdout",
          "text": [
            "Model: \"model_2\"\n",
            "_________________________________________________________________\n",
            "Layer (type)                 Output Shape              Param #   \n",
            "=================================================================\n",
            "input_4 (InputLayer)         [(None, 224, 224, 3)]     0         \n",
            "_________________________________________________________________\n",
            "sequential (Sequential)      (None, None, None, 3)     0         \n",
            "_________________________________________________________________\n",
            "efficientnetb0 (Functional)  (None, None, None, 1280)  4049571   \n",
            "_________________________________________________________________\n",
            "global_average_pooling2d_1 ( (None, 1280)              0         \n",
            "_________________________________________________________________\n",
            "dense_1 (Dense)              (None, 10)                12810     \n",
            "=================================================================\n",
            "Total params: 4,062,381\n",
            "Trainable params: 906,042\n",
            "Non-trainable params: 3,156,339\n",
            "_________________________________________________________________\n"
          ]
        }
      ]
    },
    {
      "cell_type": "code",
      "metadata": {
        "colab": {
          "base_uri": "https://localhost:8080/"
        },
        "id": "8vCx-G3iluMi",
        "outputId": "8c21f33e-f5d5-4bf2-822b-714124f485e9"
      },
      "source": [
        "track2 = model_2.fit(train_data_10,epochs = 15,steps_per_epoch= len(train_data_10),validation_data=test_data_10,validation_steps=int(0.25 * len(test_data_10)),callbacks = [create_tensorboard_callback(\"training\",\"10 percent\"),cp_callback])"
      ],
      "execution_count": 33,
      "outputs": [
        {
          "output_type": "stream",
          "name": "stdout",
          "text": [
            "Saving TensorBoard log files to: training/10 percent/20211108-203853\n",
            "Epoch 1/15\n"
          ]
        },
        {
          "output_type": "stream",
          "name": "stderr",
          "text": [
            "/usr/local/lib/python3.7/dist-packages/keras/utils/generic_utils.py:497: CustomMaskWarning: Custom mask layers require a config and must override get_config. When loading, the custom mask layer must be passed to the custom_objects argument.\n",
            "  category=CustomMaskWarning)\n"
          ]
        },
        {
          "output_type": "stream",
          "name": "stdout",
          "text": [
            "24/24 [==============================] - 24s 617ms/step - loss: 0.3937 - accuracy: 0.8947 - val_loss: 0.4646 - val_accuracy: 0.8438\n",
            "\n",
            "Epoch 00001: val_loss improved from 0.50466 to 0.46457, saving model to weights/checkpoint.ckpt\n",
            "Epoch 2/15\n",
            "24/24 [==============================] - 14s 561ms/step - loss: 0.3368 - accuracy: 0.9080 - val_loss: 0.5012 - val_accuracy: 0.8388\n",
            "\n",
            "Epoch 00002: val_loss did not improve from 0.46457\n",
            "Epoch 3/15\n",
            "24/24 [==============================] - 16s 643ms/step - loss: 0.3051 - accuracy: 0.9040 - val_loss: 0.4674 - val_accuracy: 0.8454\n",
            "\n",
            "Epoch 00003: val_loss did not improve from 0.46457\n",
            "Epoch 4/15\n",
            "24/24 [==============================] - 13s 539ms/step - loss: 0.2569 - accuracy: 0.9280 - val_loss: 0.4622 - val_accuracy: 0.8421\n",
            "\n",
            "Epoch 00004: val_loss improved from 0.46457 to 0.46216, saving model to weights/checkpoint.ckpt\n",
            "Epoch 5/15\n",
            "24/24 [==============================] - 11s 441ms/step - loss: 0.2347 - accuracy: 0.9360 - val_loss: 0.4446 - val_accuracy: 0.8438\n",
            "\n",
            "Epoch 00005: val_loss improved from 0.46216 to 0.44463, saving model to weights/checkpoint.ckpt\n",
            "Epoch 6/15\n",
            "24/24 [==============================] - 11s 447ms/step - loss: 0.2142 - accuracy: 0.9373 - val_loss: 0.4659 - val_accuracy: 0.8503\n",
            "\n",
            "Epoch 00006: val_loss did not improve from 0.44463\n",
            "Epoch 7/15\n",
            "24/24 [==============================] - 11s 444ms/step - loss: 0.2110 - accuracy: 0.9427 - val_loss: 0.4844 - val_accuracy: 0.8454\n",
            "\n",
            "Epoch 00007: val_loss did not improve from 0.44463\n",
            "Epoch 8/15\n",
            "24/24 [==============================] - 10s 407ms/step - loss: 0.1878 - accuracy: 0.9440 - val_loss: 0.5068 - val_accuracy: 0.8339\n",
            "\n",
            "Epoch 00008: val_loss did not improve from 0.44463\n",
            "Epoch 9/15\n",
            "24/24 [==============================] - 13s 522ms/step - loss: 0.1688 - accuracy: 0.9600 - val_loss: 0.4972 - val_accuracy: 0.8438\n",
            "\n",
            "Epoch 00009: val_loss did not improve from 0.44463\n",
            "Epoch 10/15\n",
            "24/24 [==============================] - 11s 435ms/step - loss: 0.1403 - accuracy: 0.9627 - val_loss: 0.5280 - val_accuracy: 0.8438\n",
            "\n",
            "Epoch 00010: val_loss did not improve from 0.44463\n",
            "Epoch 11/15\n",
            "24/24 [==============================] - 12s 492ms/step - loss: 0.1387 - accuracy: 0.9653 - val_loss: 0.5516 - val_accuracy: 0.8421\n",
            "\n",
            "Epoch 00011: val_loss did not improve from 0.44463\n",
            "Epoch 12/15\n",
            "24/24 [==============================] - 10s 412ms/step - loss: 0.1254 - accuracy: 0.9693 - val_loss: 0.4985 - val_accuracy: 0.8586\n",
            "\n",
            "Epoch 00012: val_loss did not improve from 0.44463\n",
            "Epoch 13/15\n",
            "24/24 [==============================] - 13s 542ms/step - loss: 0.1259 - accuracy: 0.9707 - val_loss: 0.5056 - val_accuracy: 0.8438\n",
            "\n",
            "Epoch 00013: val_loss did not improve from 0.44463\n",
            "Epoch 14/15\n",
            "24/24 [==============================] - 11s 452ms/step - loss: 0.1073 - accuracy: 0.9773 - val_loss: 0.4915 - val_accuracy: 0.8438\n",
            "\n",
            "Epoch 00014: val_loss did not improve from 0.44463\n",
            "Epoch 15/15\n",
            "24/24 [==============================] - 13s 514ms/step - loss: 0.1029 - accuracy: 0.9773 - val_loss: 0.4801 - val_accuracy: 0.8454\n",
            "\n",
            "Epoch 00015: val_loss did not improve from 0.44463\n"
          ]
        }
      ]
    },
    {
      "cell_type": "markdown",
      "metadata": {
        "id": "73-y20oNSwUf"
      },
      "source": [
        "Plotting loss curves"
      ]
    },
    {
      "cell_type": "code",
      "metadata": {
        "colab": {
          "base_uri": "https://localhost:8080/",
          "height": 573
        },
        "id": "hHVVGhi0mSLi",
        "outputId": "6856b0b5-6f79-4120-d686-757f93a29a67"
      },
      "source": [
        "plot_loss_curves(track2)"
      ],
      "execution_count": 34,
      "outputs": [
        {
          "output_type": "display_data",
          "data": {
            "image/png": "[encoded data removed]",
            "text/plain": [
              "<Figure size 432x288 with 1 Axes>"
            ]
          },
          "metadata": {
            "needs_background": "light"
          }
        },
        {
          "output_type": "display_data",
          "data": {
            "image/png": "[encoded data removed]",
            "text/plain": [
              "<Figure size 432x288 with 1 Axes>"
            ]
          },
          "metadata": {
            "needs_background": "light"
          }
        }
      ]
    }
  ]
}